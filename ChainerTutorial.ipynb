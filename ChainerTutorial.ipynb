{
 "cells": [
  {
   "cell_type": "markdown",
   "metadata": {},
   "source": [
    "# Chainerチュートリアル　Function\n",
    "まずはコマンド・プロンプトないしそれ相当のもので\"pip install chainer\""
   ]
  },
  {
   "cell_type": "code",
   "execution_count": 1,
   "metadata": {
    "collapsed": false
   },
   "outputs": [],
   "source": [
    "import chainer\n",
    "import numpy as np\n",
    "from chainer import cuda, Function, gradient_check, report, training, utils, Variable\n",
    "from chainer import datasets, iterators, optimizers, serializers\n",
    "from chainer import Link, Chain, ChainList\n",
    "import chainer.functions as F\n",
    "import chainer.links as L\n",
    "from chainer.training import extensions"
   ]
  },
  {
   "cell_type": "code",
   "execution_count": 2,
   "metadata": {
    "collapsed": true
   },
   "outputs": [],
   "source": [
    "x_data = np.array([5], dtype=np.float32)\n",
    "x = Variable(x_data)"
   ]
  },
  {
   "cell_type": "markdown",
   "metadata": {},
   "source": [
    "Variable型はChaunier独自の型で変数を格納できるみたい"
   ]
  },
  {
   "cell_type": "code",
   "execution_count": 3,
   "metadata": {
    "collapsed": false
   },
   "outputs": [
    {
     "name": "stdout",
     "output_type": "stream",
     "text": [
      "[ 5.]\n",
      "<var@1d0f6907be0>\n"
     ]
    }
   ],
   "source": [
    "print(x_data)\n",
    "print(x)"
   ]
  },
  {
   "cell_type": "markdown",
   "metadata": {},
   "source": [
    "ここからはVariableの性質を見ていく"
   ]
  },
  {
   "cell_type": "code",
   "execution_count": 4,
   "metadata": {
    "collapsed": true
   },
   "outputs": [],
   "source": [
    "y = x**2 - 2*x + 1"
   ]
  },
  {
   "cell_type": "code",
   "execution_count": 5,
   "metadata": {
    "collapsed": false
   },
   "outputs": [
    {
     "data": {
      "text/plain": [
       "<variable at 0x1d0f6907b70>"
      ]
     },
     "execution_count": 5,
     "metadata": {},
     "output_type": "execute_result"
    }
   ],
   "source": [
    "y"
   ]
  },
  {
   "cell_type": "markdown",
   "metadata": {},
   "source": [
    "中身はそのままだと見れない"
   ]
  },
  {
   "cell_type": "code",
   "execution_count": 6,
   "metadata": {
    "collapsed": false
   },
   "outputs": [
    {
     "name": "stdout",
     "output_type": "stream",
     "text": [
      "<var@1d0f6907b70>\n"
     ]
    }
   ],
   "source": [
    "print(y)"
   ]
  },
  {
   "cell_type": "code",
   "execution_count": 7,
   "metadata": {
    "collapsed": false
   },
   "outputs": [
    {
     "data": {
      "text/plain": [
       "array([ 16.], dtype=float32)"
      ]
     },
     "execution_count": 7,
     "metadata": {},
     "output_type": "execute_result"
    }
   ],
   "source": [
    "y.data"
   ]
  },
  {
   "cell_type": "code",
   "execution_count": 8,
   "metadata": {
    "collapsed": false
   },
   "outputs": [
    {
     "name": "stdout",
     "output_type": "stream",
     "text": [
      "[ 16.]\n"
     ]
    }
   ],
   "source": [
    "print(y.data)"
   ]
  },
  {
   "cell_type": "markdown",
   "metadata": {},
   "source": [
    "これで見れる。値はdataに格納される。ChainerのVariable型は値の他に履歴や便利な機能を提供するために直接的には値が参照できない。その便利な機能の一つが以下のbackward()"
   ]
  },
  {
   "cell_type": "code",
   "execution_count": 9,
   "metadata": {
    "collapsed": false
   },
   "outputs": [
    {
     "name": "stdout",
     "output_type": "stream",
     "text": [
      "None\n"
     ]
    }
   ],
   "source": [
    "print(y.backward())"
   ]
  },
  {
   "cell_type": "markdown",
   "metadata": {},
   "source": [
    "別段backward()そのものは何も返さないが…"
   ]
  },
  {
   "cell_type": "code",
   "execution_count": 10,
   "metadata": {
    "collapsed": false
   },
   "outputs": [
    {
     "name": "stdout",
     "output_type": "stream",
     "text": [
      "[ 8.]\n"
     ]
    }
   ],
   "source": [
    "print(x.grad)"
   ]
  },
  {
   "cell_type": "code",
   "execution_count": 11,
   "metadata": {
    "collapsed": false
   },
   "outputs": [
    {
     "data": {
      "text/plain": [
       "array([ 8.], dtype=float32)"
      ]
     },
     "execution_count": 11,
     "metadata": {},
     "output_type": "execute_result"
    }
   ],
   "source": [
    "x.grad"
   ]
  },
  {
   "cell_type": "markdown",
   "metadata": {},
   "source": [
    "x.gradに変化がある。これはつまりyのxに関する勾配が格納されている。今回ならdy/dx = 2x -2, x = 5なので 8で確かに正しい。"
   ]
  },
  {
   "cell_type": "code",
   "execution_count": 35,
   "metadata": {
    "collapsed": false
   },
   "outputs": [],
   "source": [
    "y.backward()"
   ]
  },
  {
   "cell_type": "code",
   "execution_count": 36,
   "metadata": {
    "collapsed": false
   },
   "outputs": [
    {
     "name": "stdout",
     "output_type": "stream",
     "text": [
      "[ 16.]\n"
     ]
    }
   ],
   "source": [
    "print(x.grad)"
   ]
  },
  {
   "cell_type": "markdown",
   "metadata": {},
   "source": [
    "もう一度backwardをすると値が累積するみたいだ。これはニューラルネットで実際にバックプロパゲーションするときにバッチ処理（たくさんのデータをまとめて処理すること）するのに便利だからだろう。"
   ]
  },
  {
   "cell_type": "code",
   "execution_count": 41,
   "metadata": {
    "collapsed": false
   },
   "outputs": [
    {
     "name": "stdout",
     "output_type": "stream",
     "text": [
      "[ 0.]\n",
      "[ 8.]\n"
     ]
    }
   ],
   "source": [
    "x.grad = np.array([0], dtype=np.float32)\n",
    "print(x.grad)\n",
    "y.backward()\n",
    "print(x.grad)"
   ]
  },
  {
   "cell_type": "markdown",
   "metadata": {},
   "source": [
    "一応値はリセットできるみたいだ。ただし注意が必要で、ここで初めて気づいたがどうやらChainerは基本の型をnumpyのnp.float32型としているらしく代入する値をこれ以外にするとエラーを吐く。\n",
    "\n",
    "次は中間に変数がある場合について見てみる。"
   ]
  },
  {
   "cell_type": "code",
   "execution_count": 33,
   "metadata": {
    "collapsed": false
   },
   "outputs": [
    {
     "name": "stdout",
     "output_type": "stream",
     "text": [
      "retain_grad = True\n",
      "zgrad: [-1.] , z: [ 10.]\n",
      "xgrad: [ 8.] , x: [ 5.]\n",
      "retain_grad = False\n",
      "zgrad: None , z: [ 10.]\n",
      "xgrad: [ 8.] , x: [ 5.]\n"
     ]
    }
   ],
   "source": [
    "x_data = np.array([5.], dtype=np.float32)\n",
    "x = Variable(x_data)\n",
    "z = 2*x\n",
    "y = x**2 - z + 1\n",
    "print(\"retain_grad = True\")\n",
    "y.backward(retain_grad=True)\n",
    "print(\"zgrad:\",z.grad, \", z:\", z.data)\n",
    "print(\"xgrad:\",x.grad, \", x:\", x.data)\n",
    "print(\"retain_grad = False\")\n",
    "x = Variable(x_data)\n",
    "z = 2*x\n",
    "y = x**2 - z + 1\n",
    "y.backward(retain_grad=False)\n",
    "print(\"zgrad:\",z.grad, \", z:\", z.data)\n",
    "print(\"xgrad:\",x.grad, \", x:\", x.data)"
   ]
  },
  {
   "cell_type": "markdown",
   "metadata": {},
   "source": [
    "retain_grad をTrueにするとｚのgradにも値が格納される。あまり使うことは無いらしい。また、retain_gradの真偽に関わらず、ｘのgradはｚを展開した式の形になる。"
   ]
  },
  {
   "cell_type": "markdown",
   "metadata": {},
   "source": [
    "ChainerのFunctionモジュールの関数はVariable型を引数にとる物が多いらしく、これらを組み合わせることで複雑なバックプロパゲーションの計算ができるとのこと。"
   ]
  },
  {
   "cell_type": "markdown",
   "metadata": {},
   "source": [
    "# Links"
   ]
  },
  {
   "cell_type": "markdown",
   "metadata": {},
   "source": [
    "ニューラルネットでは素子と素子とを「繋げる」ということがとても大切になってくる。もちろんChainerではその動作が簡単に書けるのだ。"
   ]
  },
  {
   "cell_type": "code",
   "execution_count": null,
   "metadata": {
    "collapsed": true
   },
   "outputs": [],
   "source": []
  }
 ],
 "metadata": {
  "kernelspec": {
   "display_name": "Python 3",
   "language": "python",
   "name": "python3"
  },
  "language_info": {
   "codemirror_mode": {
    "name": "ipython",
    "version": 3
   },
   "file_extension": ".py",
   "mimetype": "text/x-python",
   "name": "python",
   "nbconvert_exporter": "python",
   "pygments_lexer": "ipython3",
   "version": "3.6.0"
  }
 },
 "nbformat": 4,
 "nbformat_minor": 2
}
