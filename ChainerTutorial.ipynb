{
 "cells": [
  {
   "cell_type": "markdown",
   "metadata": {},
   "source": [
    "# Chainerチュートリアル\n",
    "まずはコマンド・プロンプトないしそれ相当のもので\"pip install chainer\""
   ]
  },
  {
   "cell_type": "code",
   "execution_count": 1,
   "metadata": {
    "collapsed": false
   },
   "outputs": [],
   "source": [
    "import chainer\n",
    "import numpy as np\n",
    "from chainer import cuda, Function, gradient_check, report, training, utils, Variable\n",
    "from chainer import datasets, iterators, optimizers, serializers\n",
    "from chainer import Link, Chain, ChainList\n",
    "import chainer.functions as F\n",
    "import chainer.links as L\n",
    "from chainer.training import extensions"
   ]
  },
  {
   "cell_type": "code",
   "execution_count": 2,
   "metadata": {
    "collapsed": true
   },
   "outputs": [],
   "source": [
    "x_data = np.array([5], dtype=np.float32)\n",
    "x = Variable(x_data)"
   ]
  },
  {
   "cell_type": "markdown",
   "metadata": {},
   "source": [
    "Variable型はChainer独自の型で変数を格納できるみたい"
   ]
  },
  {
   "cell_type": "code",
   "execution_count": 3,
   "metadata": {
    "collapsed": false
   },
   "outputs": [
    {
     "name": "stdout",
     "output_type": "stream",
     "text": [
      "[ 5.]\n",
      "<var@1be96bb7c50>\n"
     ]
    }
   ],
   "source": [
    "print(x_data)\n",
    "print(x)"
   ]
  },
  {
   "cell_type": "markdown",
   "metadata": {},
   "source": [
    "ここからはVariableの性質を見ていく"
   ]
  },
  {
   "cell_type": "code",
   "execution_count": 4,
   "metadata": {
    "collapsed": true
   },
   "outputs": [],
   "source": [
    "y = x**2 - 2*x + 1"
   ]
  },
  {
   "cell_type": "code",
   "execution_count": 5,
   "metadata": {
    "collapsed": false
   },
   "outputs": [
    {
     "data": {
      "text/plain": [
       "<variable at 0x1be96bb7a90>"
      ]
     },
     "execution_count": 5,
     "metadata": {},
     "output_type": "execute_result"
    }
   ],
   "source": [
    "y"
   ]
  },
  {
   "cell_type": "markdown",
   "metadata": {},
   "source": [
    "中身はそのままだと見れない"
   ]
  },
  {
   "cell_type": "code",
   "execution_count": 6,
   "metadata": {
    "collapsed": false
   },
   "outputs": [
    {
     "name": "stdout",
     "output_type": "stream",
     "text": [
      "<var@1be96bb7a90>\n"
     ]
    }
   ],
   "source": [
    "print(y)"
   ]
  },
  {
   "cell_type": "code",
   "execution_count": 7,
   "metadata": {
    "collapsed": false
   },
   "outputs": [
    {
     "data": {
      "text/plain": [
       "array([ 16.], dtype=float32)"
      ]
     },
     "execution_count": 7,
     "metadata": {},
     "output_type": "execute_result"
    }
   ],
   "source": [
    "y.data"
   ]
  },
  {
   "cell_type": "code",
   "execution_count": 8,
   "metadata": {
    "collapsed": false
   },
   "outputs": [
    {
     "name": "stdout",
     "output_type": "stream",
     "text": [
      "[ 16.]\n"
     ]
    }
   ],
   "source": [
    "print(y.data)"
   ]
  },
  {
   "cell_type": "markdown",
   "metadata": {},
   "source": [
    "これで見れる。値はdataに格納される。ChainerのVariable型は値の他に履歴や便利な機能を提供するために直接的には値が参照できない。その便利な機能の一つが以下のbackward()"
   ]
  },
  {
   "cell_type": "code",
   "execution_count": 9,
   "metadata": {
    "collapsed": false
   },
   "outputs": [
    {
     "name": "stdout",
     "output_type": "stream",
     "text": [
      "None\n"
     ]
    }
   ],
   "source": [
    "print(y.backward())"
   ]
  },
  {
   "cell_type": "markdown",
   "metadata": {},
   "source": [
    "別段backward()そのものは何も返さないが…"
   ]
  },
  {
   "cell_type": "code",
   "execution_count": 10,
   "metadata": {
    "collapsed": false
   },
   "outputs": [
    {
     "name": "stdout",
     "output_type": "stream",
     "text": [
      "[ 8.]\n"
     ]
    }
   ],
   "source": [
    "print(x.grad)"
   ]
  },
  {
   "cell_type": "code",
   "execution_count": 11,
   "metadata": {
    "collapsed": false
   },
   "outputs": [
    {
     "data": {
      "text/plain": [
       "array([ 8.], dtype=float32)"
      ]
     },
     "execution_count": 11,
     "metadata": {},
     "output_type": "execute_result"
    }
   ],
   "source": [
    "x.grad"
   ]
  },
  {
   "cell_type": "markdown",
   "metadata": {},
   "source": [
    "x.gradに変化がある。これはつまりyのxに関する勾配が格納されている。今回ならdy/dx = 2x -2, x = 5なので 8で確かに正しい。"
   ]
  },
  {
   "cell_type": "code",
   "execution_count": 12,
   "metadata": {
    "collapsed": false
   },
   "outputs": [],
   "source": [
    "y.backward()"
   ]
  },
  {
   "cell_type": "code",
   "execution_count": 13,
   "metadata": {
    "collapsed": false
   },
   "outputs": [
    {
     "name": "stdout",
     "output_type": "stream",
     "text": [
      "[ 16.]\n"
     ]
    }
   ],
   "source": [
    "print(x.grad)"
   ]
  },
  {
   "cell_type": "markdown",
   "metadata": {},
   "source": [
    "もう一度backwardをすると値が累積するみたいだ。これはニューラルネットで実際にバックプロパゲーションするときにバッチ処理（たくさんのデータをまとめて処理すること）するのに便利だからだろう。"
   ]
  },
  {
   "cell_type": "code",
   "execution_count": 14,
   "metadata": {
    "collapsed": false
   },
   "outputs": [
    {
     "name": "stdout",
     "output_type": "stream",
     "text": [
      "[ 0.]\n",
      "[ 8.]\n"
     ]
    }
   ],
   "source": [
    "x.grad = np.array([0], dtype=np.float32)\n",
    "print(x.grad)\n",
    "y.backward()\n",
    "print(x.grad)"
   ]
  },
  {
   "cell_type": "markdown",
   "metadata": {},
   "source": [
    "一応値はリセットできるみたいだ。ただし注意が必要で、ここで初めて気づいけど、どうやらChainerは基本の型をnumpyのnp.float32型としているらしく代入する値をこれ以外にするとエラーを吐く。\n",
    "\n",
    "次は中間に変数がある場合について見てみる。"
   ]
  },
  {
   "cell_type": "code",
   "execution_count": 15,
   "metadata": {
    "collapsed": false
   },
   "outputs": [
    {
     "name": "stdout",
     "output_type": "stream",
     "text": [
      "retain_grad = True\n",
      "zgrad: [-1.] , z: [ 10.]\n",
      "xgrad: [ 8.] , x: [ 5.]\n",
      "retain_grad = False\n",
      "zgrad: None , z: [ 10.]\n",
      "xgrad: [ 8.] , x: [ 5.]\n"
     ]
    }
   ],
   "source": [
    "x_data = np.array([5.], dtype=np.float32)\n",
    "x = Variable(x_data)\n",
    "z = 2*x\n",
    "y = x**2 - z + 1\n",
    "print(\"retain_grad = True\")\n",
    "y.backward(retain_grad=True)\n",
    "print(\"zgrad:\",z.grad, \", z:\", z.data)\n",
    "print(\"xgrad:\",x.grad, \", x:\", x.data)\n",
    "print(\"retain_grad = False\")\n",
    "x = Variable(x_data)\n",
    "z = 2*x\n",
    "y = x**2 - z + 1\n",
    "y.backward(retain_grad=False)\n",
    "print(\"zgrad:\",z.grad, \", z:\", z.data)\n",
    "print(\"xgrad:\",x.grad, \", x:\", x.data)"
   ]
  },
  {
   "cell_type": "markdown",
   "metadata": {},
   "source": [
    "retain_grad をTrueにするとｚのgradにも値が格納される。あまり使うことは無いらしい。また、retain_gradの真偽に関わらず、ｘのgradはｚを展開した式の形になる。"
   ]
  },
  {
   "cell_type": "markdown",
   "metadata": {
    "collapsed": false
   },
   "source": [
    "正直この方法だと沢山のデータの逆伝播を計算したいときは不便だ。そこで、ｘには行列が代入できる"
   ]
  },
  {
   "cell_type": "code",
   "execution_count": 37,
   "metadata": {
    "collapsed": false
   },
   "outputs": [
    {
     "data": {
      "text/plain": [
       "array([[  0.,   4.,   8.],\n",
       "       [ 12.,  16.,  20.]], dtype=float32)"
      ]
     },
     "execution_count": 37,
     "metadata": {},
     "output_type": "execute_result"
    }
   ],
   "source": [
    "x = Variable(np.array([[1, 2, 3], [4, 5, 6]], dtype=np.float32))\n",
    "y = x**2 - 2*x + 1\n",
    "y.grad = np.ones((2, 3), dtype=np.float32) * 2\n",
    "y.backward()\n",
    "x.grad"
   ]
  },
  {
   "cell_type": "markdown",
   "metadata": {},
   "source": [
    "ここでy.gradに値を代入してるのは初期誤差値（ｙをｘから予想された値だとすると予想と事実の差）だそう。要するにy.grad * dy/dx が　x.gradとなる"
   ]
  },
  {
   "cell_type": "markdown",
   "metadata": {},
   "source": [
    "ChainerのFunctionモジュールの関数はVariable型を引数にとる物が多いらしく、これらを組み合わせることで複雑なバックプロパゲーション（backward()のこと）の計算ができるとのこと。"
   ]
  },
  {
   "cell_type": "markdown",
   "metadata": {},
   "source": [
    "# Linksを使った表現"
   ]
  },
  {
   "cell_type": "markdown",
   "metadata": {},
   "source": [
    "ニューラルネットでは素子と素子とを「繋げる」ということがとても大切になってくる。もちろんChainerではその動作が簡単に書けるのだ。  \n",
    "次に書くのは最もよく使われる線形変換で3次元の配列を2次元に変換するための線形変換（アファイン変換、全結合）だ。"
   ]
  },
  {
   "cell_type": "code",
   "execution_count": 17,
   "metadata": {
    "collapsed": true
   },
   "outputs": [],
   "source": [
    "f = L.Linear(3, 2)"
   ]
  },
  {
   "cell_type": "markdown",
   "metadata": {},
   "source": [
    "(L.linear と　L.Linear どっちもあるって罠だな。)  \n",
    "この関数ｆは3次元の引数を取るが、ほとんどのChainerの関数同様、パッチ入力しか受け取らない。要するに、（N、3）の行列を受け取る。このNがミニバッチのサイズ"
   ]
  },
  {
   "cell_type": "markdown",
   "metadata": {},
   "source": [
    "これで f(x) = Wx + b (勿論Wは行列、bはベクトルだぞ)　の式を作ることができた。与えた引数によってWは　2* 3,　 b は2の長さになっているぞ  \n",
    "(個人的な注意）今までｘがパラメータだったがここからはｘはパラメータでは無くデータ。パラメータ（変更すべき係数）はWとｂ。"
   ]
  },
  {
   "cell_type": "code",
   "execution_count": 18,
   "metadata": {
    "collapsed": false
   },
   "outputs": [
    {
     "name": "stdout",
     "output_type": "stream",
     "text": [
      "W: [[-0.64312094  0.49359825  0.36686105]\n",
      " [ 0.57213914 -0.91328198 -0.10738265]]\n",
      "b: [ 0.  0.]\n"
     ]
    }
   ],
   "source": [
    "print(\"W:\",f.W.data)\n",
    "print(\"b:\",f.b.data)"
   ]
  },
  {
   "cell_type": "markdown",
   "metadata": {},
   "source": [
    "Wはランダムな値、bは０で初期化されている"
   ]
  },
  {
   "cell_type": "code",
   "execution_count": 19,
   "metadata": {
    "collapsed": true
   },
   "outputs": [],
   "source": [
    "f.W = Variable(np.array([[1,0,0],[0,1,0]], dtype=np.float32))\n",
    "f.b = Variable(np.array([1,1], dtype=np.float32))"
   ]
  },
  {
   "cell_type": "code",
   "execution_count": 20,
   "metadata": {
    "collapsed": false
   },
   "outputs": [
    {
     "name": "stdout",
     "output_type": "stream",
     "text": [
      "W: [[ 1.  0.  0.]\n",
      " [ 0.  1.  0.]]\n",
      "b: [ 1.  1.]\n"
     ]
    }
   ],
   "source": [
    "print(\"W:\",f.W.data)\n",
    "print(\"b:\",f.b.data)"
   ]
  },
  {
   "cell_type": "markdown",
   "metadata": {},
   "source": [
    "実験のために値をわかりやすく指定した。"
   ]
  },
  {
   "cell_type": "markdown",
   "metadata": {},
   "source": [
    "つぎにミニバッチ数２のデータを適当に突っ込む。"
   ]
  },
  {
   "cell_type": "code",
   "execution_count": 42,
   "metadata": {
    "collapsed": false
   },
   "outputs": [
    {
     "data": {
      "text/plain": [
       "array([[ 2.,  3.],\n",
       "       [ 5.,  6.],\n",
       "       [ 8.,  9.]], dtype=float32)"
      ]
     },
     "execution_count": 42,
     "metadata": {},
     "output_type": "execute_result"
    }
   ],
   "source": [
    "x = Variable(np.array([[1, 2, 3], [4, 5, 6], [7, 8, 9]], dtype=np.float32))\n",
    "y = f(x)\n",
    "y.data"
   ]
  },
  {
   "cell_type": "markdown",
   "metadata": {},
   "source": [
    "まぁ、良いんじゃないかな？  \n",
    "これでy.data[i]でx[i]に対する解が見える。"
   ]
  },
  {
   "cell_type": "code",
   "execution_count": 43,
   "metadata": {
    "collapsed": true
   },
   "outputs": [],
   "source": [
    "f.cleargrads()"
   ]
  },
  {
   "cell_type": "markdown",
   "metadata": {},
   "source": [
    "さっきは、適当に勾配gradsに0を代入してクリアしたが、本当はcleargrads()で勾配の累積を０にするみたい。  \n",
    "ちなみにver1.15以前はzerograds()を使ってたみたいだけど、こっちの方が効率がよくて後方互換性のためだけに残してあるみたい"
   ]
  },
  {
   "cell_type": "markdown",
   "metadata": {},
   "source": [
    "こちらの形式でも勾配を計算できる。やり方は同じで、初期誤差値を指定してからbackward()するだけ"
   ]
  },
  {
   "cell_type": "code",
   "execution_count": 44,
   "metadata": {
    "collapsed": false
   },
   "outputs": [
    {
     "name": "stdout",
     "output_type": "stream",
     "text": [
      "W grad:\n",
      " [[ 12.  15.  18.]\n",
      " [ 12.  15.  18.]]\n",
      "b grad:\n",
      " [ 3.  3.]\n"
     ]
    }
   ],
   "source": [
    "y.grad = np.ones((3, 2), dtype=np.float32)\n",
    "y.backward()\n",
    "print(\"W grad:\\n\", f.W.grad)\n",
    "print(\"b grad:\\n\", f.b.grad)"
   ]
  },
  {
   "cell_type": "markdown",
   "metadata": {},
   "source": [
    "もちろんここもy.grad dy/dw や y.grad y/dbになっている。(dy/dw = x, dy/db = 1 でそれぞれのｘデータに対して累積したものがgradに入るからあっているのが分かる）"
   ]
  },
  {
   "cell_type": "markdown",
   "metadata": {},
   "source": [
    "# Write a model as Chain"
   ]
  },
  {
   "cell_type": "markdown",
   "metadata": {},
   "source": [
    "やっとChainerらしくなってきた。  \n",
    "ほとんどのNNは複数のlinksを含む。例えば多層パーセプトロンは複数の線形層で構成される。"
   ]
  },
  {
   "cell_type": "code",
   "execution_count": 45,
   "metadata": {
    "collapsed": true
   },
   "outputs": [],
   "source": [
    "l1 = L.Linear(4, 3)\n",
    "l2 = L.Linear(3, 2)\n",
    "def my_forward(x):\n",
    "    h = l1(x)\n",
    "    return l2(h)"
   ]
  },
  {
   "cell_type": "markdown",
   "metadata": {},
   "source": [
    "なんとなく意味は分かる。４次元のxが入るとそれが２次元に変換されて出てきそうだ。  \n",
    "しかしこの書き方は再利用が難しいのでダメ。もっとPythonっぽい書き方はクラスを使う方法だ。"
   ]
  },
  {
   "cell_type": "code",
   "execution_count": 46,
   "metadata": {
    "collapsed": true
   },
   "outputs": [],
   "source": [
    "class MyChain(Chain):\n",
    "    def __init__(self):\n",
    "        self.l1 = L.Linear(4, 3)\n",
    "        self.l2 = L.Linear(3, 2)\n",
    "        \n",
    "    def forward(self, x):\n",
    "        h = self.l1(x)\n",
    "        return self.l2(h)"
   ]
  },
  {
   "cell_type": "markdown",
   "metadata": {},
   "source": [
    "確かになんか再利用はしやすそうだ。いい具合な気がする。しかし、チュートリアル曰くもっと再利用しやすくするためにChainerクラスを上手く使うのが良いらしい。（先言えよ）"
   ]
  },
  {
   "cell_type": "code",
   "execution_count": 55,
   "metadata": {
    "collapsed": false
   },
   "outputs": [
    {
     "name": "stdout",
     "output_type": "stream",
     "text": [
      "[[-2.85792923 -0.22626543]]\n"
     ]
    }
   ],
   "source": [
    "class MyChain(Chain):\n",
    "    def __init__(self):\n",
    "        super(MyChain, self).__init__(\n",
    "            l1 = L.Linear(4, 3),\n",
    "            l2 = L.Linear(3, 2),\n",
    "        )\n",
    "        \n",
    "    def __call__(self, x):\n",
    "        h = self.l1(x)\n",
    "        j = self.l2(h)\n",
    "        return j\n",
    "a = MyChain()\n",
    "print(a(np.array([[1,2,3,4]], dtype=np.float32)).data) # ちゃんと計算できることの確認"
   ]
  },
  {
   "cell_type": "markdown",
   "metadata": {},
   "source": [
    "ここで\"__call__\"としているのはpythonっぽくさらにしようってことでしたみたい。これでインスタンを関数っぽく呼ぶだけで順方向の計算ができる"
   ]
  },
  {
   "cell_type": "markdown",
   "metadata": {},
   "source": [
    "ここでは、MyChainのなかの要素としてl1, l2を定義したがこのようなlinksをMyChainの子linksと呼ぶ。  \n",
    "Chainはlinksを継承しているので、子linksとしてChainを持てばより複雑な構造を持つことも可能となる。"
   ]
  },
  {
   "cell_type": "markdown",
   "metadata": {},
   "source": [
    "他にもChainを定義する方法がある。ChainListを使う方法。　以下のようにlinksをリストのように扱える。  \n",
    "self[]ってすげぇーな、おい。　びっくりしてるのは自分だけ？"
   ]
  },
  {
   "cell_type": "code",
   "execution_count": 57,
   "metadata": {
    "collapsed": false
   },
   "outputs": [
    {
     "name": "stdout",
     "output_type": "stream",
     "text": [
      "[[-0.76976579  0.02165219]]\n"
     ]
    }
   ],
   "source": [
    "class MyChain2(ChainList):\n",
    "    def __init__(self):\n",
    "        super(MyChain2, self).__init__(\n",
    "            L.Linear(4, 3),\n",
    "            L.Linear(3, 2),\n",
    "        )\n",
    "        \n",
    "    def __call__(self, x):\n",
    "        h = self[0](x)\n",
    "        return self[1](h)\n",
    "a = MyChain2()\n",
    "print(a(np.array([[1,2,3,4]], dtype=np.float32)).data) # ちゃんと計算できることの確認"
   ]
  },
  {
   "cell_type": "markdown",
   "metadata": {},
   "source": [
    "もし子linksの名前がどうでも良いならChainListは有効だけど、逆に名前が決まっているならばChainが良い"
   ]
  },
  {
   "cell_type": "markdown",
   "metadata": {},
   "source": [
    "# Optimizer"
   ]
  },
  {
   "cell_type": "code",
   "execution_count": null,
   "metadata": {
    "collapsed": true
   },
   "outputs": [],
   "source": []
  }
 ],
 "metadata": {
  "kernelspec": {
   "display_name": "Python 3",
   "language": "python",
   "name": "python3"
  },
  "language_info": {
   "codemirror_mode": {
    "name": "ipython",
    "version": 3
   },
   "file_extension": ".py",
   "mimetype": "text/x-python",
   "name": "python",
   "nbconvert_exporter": "python",
   "pygments_lexer": "ipython3",
   "version": "3.6.0"
  }
 },
 "nbformat": 4,
 "nbformat_minor": 2
}
